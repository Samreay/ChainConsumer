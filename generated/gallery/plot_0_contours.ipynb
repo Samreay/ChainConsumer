{
  "cells": [
    {
      "cell_type": "code",
      "execution_count": null,
      "metadata": {
        "collapsed": false
      },
      "outputs": [],
      "source": [
        "%matplotlib inline"
      ]
    },
    {
      "cell_type": "markdown",
      "metadata": {},
      "source": [
        "\n# Introduction to Contours\n\nAt the most basic, we take a contour as a pandas DataFrame and let ChainConsumer\nhandle the defaults and display.\n"
      ]
    },
    {
      "cell_type": "code",
      "execution_count": null,
      "metadata": {
        "collapsed": false
      },
      "outputs": [],
      "source": [
        "from chainconsumer import Chain, ChainConfig, ChainConsumer, PlotConfig, Truth, make_sample\n\n# Here's what you might start with\ndf = make_sample(num_dimensions=2, seed=1)\nprint(df.head())"
      ]
    },
    {
      "cell_type": "code",
      "execution_count": null,
      "metadata": {
        "collapsed": false
      },
      "outputs": [],
      "source": [
        "# And now we give this to chainconsumer\nc = ChainConsumer()\nc.add_chain(Chain(samples=df, name=\"An Example Contour\"))\nfig = c.plotter.plot()"
      ]
    },
    {
      "cell_type": "markdown",
      "metadata": {},
      "source": [
        "If we wanted to customise the chain, that's easy enough to do.\n\n"
      ]
    },
    {
      "cell_type": "code",
      "execution_count": null,
      "metadata": {
        "collapsed": false
      },
      "outputs": [],
      "source": [
        "# Here's a convenience function for you\nchain2 = Chain.from_covariance(\n    [3.0, 1.0],\n    [[1.0, -1], [-1, 2]],\n    columns=[\"A\", \"B\"],\n    name=\"Another contour!\",\n    color=\"#065f46\",\n    linestyle=\":\",\n)\nc.add_chain(chain2)\nfig = c.plotter.plot()"
      ]
    },
    {
      "cell_type": "markdown",
      "metadata": {},
      "source": [
        "Customising Chains\n------------------\n\nThere's a lot you can configure using chains, and to make it easy, Chains are defined as pydantic\nbase models so you can easily see the default and values you can pass in. Don't worry, there will be\nplenty of very specific examples in a sub gallery you can check out, but as a final one for here,\nlet's add markers and truth values.\n\n"
      ]
    },
    {
      "cell_type": "code",
      "execution_count": null,
      "metadata": {
        "collapsed": false
      },
      "outputs": [],
      "source": [
        "c.add_marker(location={\"A\": 0, \"B\": 2}, name=\"A point\", color=\"orange\", marker_style=\"P\", marker_size=50)\nc.add_truth(Truth(location={\"A\": 0, \"B\": 5}))\nfig = c.plotter.plot()"
      ]
    },
    {
      "cell_type": "markdown",
      "metadata": {},
      "source": [
        "Weights and Posteriors\n----------------------\n\nIf you provide the log posteriors in the chain, you can ask for the maximum probability point\nto be plotted as well. Similarly, if you have samples with non-uniform weights, you can\nspecify the weights column as well.\n\nTo keep this clean, let's remake everything. I'm going to add an extra few columns into our\ndataframe. You'll see what they do\n\n"
      ]
    },
    {
      "cell_type": "code",
      "execution_count": null,
      "metadata": {
        "collapsed": false
      },
      "outputs": [],
      "source": [
        "df2 = df.assign(C=lambda x: x[\"A\"] + x[\"B\"])\n\nc = ChainConsumer()\n# Customise the chain when you add it\nchain = Chain(\n    samples=df2,\n    name=\"Example\",\n    color=\"k\",\n    plot_point=True,\n    plot_cloud=True,\n    marker_style=\"*\",\n    marker_size=100,\n    num_cloud=30000,\n    shade=False,\n    linewidth=2.0,\n    cmap=\"magma\",\n    show_contour_labels=True,\n    color_param=\"C\",\n)\nc.add_chain(chain)\n# You can also override *all* chains at once like so\n# Notice that Chain is a child of ChainConfig\n# So you could override base properties like line weights... but not samples\nc.set_override(ChainConfig(sigmas=[0, 1, 2, 3]))\nc.add_truth(Truth(location={\"A\": 0, \"B\": 5}, color=\"#500724\"))\n\n# And if we want to change the plot itself in some way, we can do that via\nc.set_plot_config(\n    PlotConfig(\n        flip=True,\n        labels={\"A\": \"$A$\", \"B\": \"$B$\", \"C\": r\"$\\alpha^2$\"},\n        contour_label_font_size=12,\n    )\n)\nfig = c.plotter.plot()"
      ]
    },
    {
      "cell_type": "markdown",
      "metadata": {},
      "source": [
        "Here the maximum posterior value is used to plot the star-shaped\npoint. A truth line is added in dark red, and instead of plotting\n$x_3$ as another contour, we use it to provide coloured scatter plots.\nThis is useful if the parameter isn't constrained and has some dependency.\n\nI have used this in the past to show how adding different priors to Hubble's\nconstant (as the color parameter) would pull our fits in different directions.\n\nNow, I am expecting a few comments like: \"But Sam, it was easier to do everything\nin one line before, instead of all these objects.\"\n\nHaving everything as kwargs being passed through made the code a nightmare,\ntype hints impossible, and extensibility poor. By trying to separate\nthings out into appropriate dataclasses, I am hoping it is a lot easier\nfor people to contribute to this code base in the future.\n\n"
      ]
    }
  ],
  "metadata": {
    "kernelspec": {
      "display_name": "Python 3",
      "language": "python",
      "name": "python3"
    },
    "language_info": {
      "codemirror_mode": {
        "name": "ipython",
        "version": 3
      },
      "file_extension": ".py",
      "mimetype": "text/x-python",
      "name": "python",
      "nbconvert_exporter": "python",
      "pygments_lexer": "ipython3",
      "version": "3.13.9"
    }
  },
  "nbformat": 4,
  "nbformat_minor": 0
}