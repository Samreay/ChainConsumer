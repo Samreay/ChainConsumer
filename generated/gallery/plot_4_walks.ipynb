{
  "cells": [
    {
      "cell_type": "code",
      "execution_count": null,
      "metadata": {
        "collapsed": false
      },
      "outputs": [],
      "source": [
        "%matplotlib inline"
      ]
    },
    {
      "cell_type": "markdown",
      "metadata": {},
      "source": [
        "\n# Introduction to Walks\n\nWant to see if your chain is behaving nicely? Use a walk!\n"
      ]
    },
    {
      "cell_type": "code",
      "execution_count": null,
      "metadata": {
        "collapsed": false
      },
      "outputs": [],
      "source": [
        "from chainconsumer import Chain, ChainConsumer, Truth, make_sample\n\n# Here's a sample dataset\ndf_1 = make_sample(num_dimensions=4, seed=1, randomise_mean=True, num_points=10000)\n\n# And now we give this to chainconsumer\nc = ChainConsumer()\nc.add_chain(Chain(samples=df_1, name=\"An Example Contour\"))\nfig = c.plotter.plot_walks()"
      ]
    },
    {
      "cell_type": "markdown",
      "metadata": {},
      "source": [
        "You can add other chains in if you want, though it can get messy to see things.\n\nTo reduce the mess, try turning on convolve, which will\nget you a smoothed out version of the walk. And truth lines are always nice.\n\n"
      ]
    },
    {
      "cell_type": "code",
      "execution_count": null,
      "metadata": {
        "collapsed": false
      },
      "outputs": [],
      "source": [
        "c.add_truth(Truth(location={\"A\": 0, \"B\": 0}))\nfig = c.plotter.plot_walks(convolve=100)"
      ]
    }
  ],
  "metadata": {
    "kernelspec": {
      "display_name": "Python 3",
      "language": "python",
      "name": "python3"
    },
    "language_info": {
      "codemirror_mode": {
        "name": "ipython",
        "version": 3
      },
      "file_extension": ".py",
      "mimetype": "text/x-python",
      "name": "python",
      "nbconvert_exporter": "python",
      "pygments_lexer": "ipython3",
      "version": "3.13.9"
    }
  },
  "nbformat": 4,
  "nbformat_minor": 0
}