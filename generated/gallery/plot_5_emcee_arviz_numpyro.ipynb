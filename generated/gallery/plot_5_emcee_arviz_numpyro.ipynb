{
  "cells": [
    {
      "cell_type": "code",
      "execution_count": null,
      "metadata": {
        "collapsed": false
      },
      "outputs": [],
      "source": [
        "%matplotlib inline"
      ]
    },
    {
      "cell_type": "markdown",
      "metadata": {},
      "source": [
        "\n# Using external samples easily\n\n`emcee`, `arviz`, and `numpyro` are all popular MCMC packages. ChainConsumer\nprovides class methods to turn results from these packages into chains efficiently.\n\nIf you want to request support for another type of chain, please open a\n[discussion](https://github.com/Samreay/ChainConsumer/discussions) with a code\nexample, and we can add it in. The brave may even provide a PR!\n"
      ]
    },
    {
      "cell_type": "code",
      "execution_count": null,
      "metadata": {
        "collapsed": false
      },
      "outputs": [],
      "source": [
        "import arviz as az\nimport emcee\nimport numpy as np\nimport numpyro\nimport numpyro.distributions as dist\nfrom jax import random\nfrom numpyro.infer import MCMC, NUTS\nfrom scipy.stats import norm\n\nfrom chainconsumer import Chain, ChainConsumer"
      ]
    },
    {
      "cell_type": "markdown",
      "metadata": {},
      "source": [
        "Emcee\n-----\n\nLet's make a dummy model here.\n\n"
      ]
    },
    {
      "cell_type": "code",
      "execution_count": null,
      "metadata": {
        "collapsed": false
      },
      "outputs": [],
      "source": [
        "# Of course, your code is probably a bit more complex\ndef run_emcee_mcmc(n_steps, n_walkers):\n    rng = np.random.default_rng(42)\n    observed_data = rng.normal(loc=1, scale=1, size=100)\n\n    def log_likelihood(theta, data):\n        mu, log_sigma = theta\n        return np.sum(norm.logpdf(data, mu, np.exp(log_sigma)))\n\n    def log_prior(theta):\n        mu, log_sigma = theta\n        if -10 < mu < 10 and -10 < log_sigma < 10:\n            return 0.0\n        return -np.inf\n\n    def log_probability(theta, data):\n        lp = log_prior(theta)\n        if not np.isfinite(lp):\n            return -np.inf\n        return lp + log_likelihood(theta, data)\n\n    ndim = 2\n    p0 = rng.uniform(low=0, high=1, size=(n_walkers, ndim))\n    sampler = emcee.EnsembleSampler(n_walkers, ndim, log_probability, args=(observed_data,))\n    sampler.run_mcmc(p0, n_steps, progress=False)\n\n    return sampler\n\n\nsampler = run_emcee_mcmc(8000, 16)\nparams = [r\"$\\mu$\", r\"$\\log(\\sigma)$\"]\nchain = Chain.from_emcee(sampler, params, \"an emcee chain\", discard=200, thin=2, color=\"indigo\")\nconsumer = ChainConsumer().add_chain(chain)"
      ]
    },
    {
      "cell_type": "markdown",
      "metadata": {},
      "source": [
        "Let's plot the walks to make sure we've discard enough burn-in\n\n"
      ]
    },
    {
      "cell_type": "code",
      "execution_count": null,
      "metadata": {
        "collapsed": false
      },
      "outputs": [],
      "source": [
        "fig = consumer.plotter.plot_walks()"
      ]
    },
    {
      "cell_type": "markdown",
      "metadata": {},
      "source": [
        "And then show the contours themselves\n\n"
      ]
    },
    {
      "cell_type": "code",
      "execution_count": null,
      "metadata": {
        "collapsed": false
      },
      "outputs": [],
      "source": [
        "fig = consumer.plotter.plot()"
      ]
    },
    {
      "cell_type": "markdown",
      "metadata": {},
      "source": [
        "Numpyro\n-------\n\nLet's start with numpyro. Again, let's make a dummy model we can sample from.\n\n"
      ]
    },
    {
      "cell_type": "code",
      "execution_count": null,
      "metadata": {
        "collapsed": false
      },
      "outputs": [],
      "source": [
        "def run_numpyro_mcmc(n_steps, n_chains):\n    rng = np.random.default_rng(42)\n    observed_data = rng.normal(loc=0, scale=1, size=100)\n\n    def model(data):\n        # Prior\n        mu = numpyro.sample(\"mu\", dist.Normal(0, 10))\n        sigma = numpyro.sample(\"sigma\", dist.HalfNormal(10))\n\n        # Likelihood\n        with numpyro.plate(\"data\", size=len(data)):\n            numpyro.sample(\"obs\", dist.Normal(mu, sigma), obs=data)  # type: ignore\n\n    # Running MCMC\n    kernel = NUTS(model)\n    mcmc = MCMC(kernel, num_warmup=500, num_samples=n_steps, num_chains=n_chains, progress_bar=False)\n    rng_key = random.PRNGKey(0)\n    mcmc.run(rng_key, data=observed_data)\n\n    return mcmc\n\n\nmcmc = run_numpyro_mcmc(8000, 1)\nchain = Chain.from_numpyro(mcmc, \"numpyro chain\", color=\"teal\")\nconsumer = ChainConsumer().add_chain(chain)"
      ]
    },
    {
      "cell_type": "markdown",
      "metadata": {},
      "source": [
        "Let's plot the walks to make sure we've discard enough burn-in\n\n"
      ]
    },
    {
      "cell_type": "code",
      "execution_count": null,
      "metadata": {
        "collapsed": false
      },
      "outputs": [],
      "source": [
        "fig = consumer.plotter.plot_walks()"
      ]
    },
    {
      "cell_type": "markdown",
      "metadata": {},
      "source": [
        "And then show the contours themselves\n\n"
      ]
    },
    {
      "cell_type": "code",
      "execution_count": null,
      "metadata": {
        "collapsed": false
      },
      "outputs": [],
      "source": [
        "fig = consumer.plotter.plot()"
      ]
    },
    {
      "cell_type": "markdown",
      "metadata": {},
      "source": [
        "Arviz\n-----\n\nTo simplify the process, we're going to make our arviz sample from\nthe numpyro one.\n\n"
      ]
    },
    {
      "cell_type": "code",
      "execution_count": null,
      "metadata": {
        "collapsed": false
      },
      "outputs": [],
      "source": [
        "arviz_id = az.from_numpyro(mcmc)\nchain = Chain.from_arviz(arviz_id, \"arviz chain\", color=\"amber\")\nfig = ChainConsumer().add_chain(chain).plotter.plot()"
      ]
    }
  ],
  "metadata": {
    "kernelspec": {
      "display_name": "Python 3",
      "language": "python",
      "name": "python3"
    },
    "language_info": {
      "codemirror_mode": {
        "name": "ipython",
        "version": 3
      },
      "file_extension": ".py",
      "mimetype": "text/x-python",
      "name": "python",
      "nbconvert_exporter": "python",
      "pygments_lexer": "ipython3",
      "version": "3.13.9"
    }
  },
  "nbformat": 4,
  "nbformat_minor": 0
}