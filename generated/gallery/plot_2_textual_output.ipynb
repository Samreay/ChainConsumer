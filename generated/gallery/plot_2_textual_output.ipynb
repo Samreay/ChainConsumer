{
  "cells": [
    {
      "cell_type": "code",
      "execution_count": null,
      "metadata": {
        "collapsed": false
      },
      "outputs": [],
      "source": [
        "%matplotlib inline"
      ]
    },
    {
      "cell_type": "markdown",
      "metadata": {},
      "source": [
        "\n# Introduction to LaTeX Tables\n\nBecause typing those things out is a **massive pain in the ass.**\n"
      ]
    },
    {
      "cell_type": "code",
      "execution_count": null,
      "metadata": {
        "collapsed": false
      },
      "outputs": [],
      "source": [
        "from chainconsumer import Chain, ChainConsumer, Truth, make_sample\n\n# Here's a sample dataset\nn_1, n_2 = 100000, 200000\ndf_1 = make_sample(num_dimensions=2, seed=0, num_points=n_1)\ndf_2 = make_sample(num_dimensions=2, seed=1, num_points=n_2)\n\n\n# Here's what the plot looks like:\nc = ChainConsumer()\nc.add_chain(Chain(samples=df_1, name=\"Model A\", num_free_params=1, num_eff_data_points=n_1))\nc.add_chain(Chain(samples=df_2, name=\"Model B\", num_free_params=2, num_eff_data_points=n_2))\nc.add_truth(Truth(location={\"A\": 0, \"B\": 1}))\nfig = c.plotter.plot()"
      ]
    },
    {
      "cell_type": "markdown",
      "metadata": {},
      "source": [
        "# Comparing Models\n\nProvided you have the log posteriors, comparing models is easy.\n\n"
      ]
    },
    {
      "cell_type": "code",
      "execution_count": null,
      "metadata": {
        "collapsed": false
      },
      "outputs": [],
      "source": [
        "latex_table = c.comparison.comparison_table()\nprint(latex_table)"
      ]
    },
    {
      "cell_type": "markdown",
      "metadata": {},
      "source": [
        "Granted, it's hard to read a LaTeX table. It'll come out something\nlike this, though I took a screenshot a while ago and the data has changed.\nYou get the idea though...\n\n![](../../resources/comparison_table.png)\n\n# Summarising Parameters\n\nAlright, so what if you've compared models and you're happy and want\nto publish that paper!\n\nYou can get a LaTeX table of the summary statistics as well.\n\n"
      ]
    },
    {
      "cell_type": "code",
      "execution_count": null,
      "metadata": {
        "collapsed": false
      },
      "outputs": [],
      "source": [
        "print(c.analysis.get_latex_table())"
      ]
    },
    {
      "cell_type": "markdown",
      "metadata": {},
      "source": [
        "Which would look like this (though I saved this screenshot out a while ago too)\n\n![](../../resources/summaries.png)\n\nAnd sometimes you might want this table transposed if you have a lot of\nparameters and not many models to compare.\n\n\n"
      ]
    },
    {
      "cell_type": "code",
      "execution_count": null,
      "metadata": {
        "collapsed": false
      },
      "outputs": [],
      "source": [
        "print(c.analysis.get_latex_table(transpose=True, caption=\"The best table\"))"
      ]
    },
    {
      "cell_type": "markdown",
      "metadata": {},
      "source": [
        "There are other things you can do if you dig around in the API, like\ncorrelations and covariance.\n\n"
      ]
    },
    {
      "cell_type": "code",
      "execution_count": null,
      "metadata": {
        "collapsed": false
      },
      "outputs": [],
      "source": [
        "print(c.analysis.get_covariance_table(\"Model A\"))"
      ]
    }
  ],
  "metadata": {
    "kernelspec": {
      "display_name": "Python 3",
      "language": "python",
      "name": "python3"
    },
    "language_info": {
      "codemirror_mode": {
        "name": "ipython",
        "version": 3
      },
      "file_extension": ".py",
      "mimetype": "text/x-python",
      "name": "python",
      "nbconvert_exporter": "python",
      "pygments_lexer": "ipython3",
      "version": "3.13.9"
    }
  },
  "nbformat": 4,
  "nbformat_minor": 0
}