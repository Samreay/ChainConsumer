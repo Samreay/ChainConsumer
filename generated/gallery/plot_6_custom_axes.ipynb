{
  "cells": [
    {
      "cell_type": "code",
      "execution_count": null,
      "metadata": {
        "collapsed": false
      },
      "outputs": [],
      "source": [
        "%matplotlib inline"
      ]
    },
    {
      "cell_type": "markdown",
      "metadata": {},
      "source": [
        "\n# Custom Axes\n\nA lot of the time you might have your own plots ready to go.\n\nIn this case, you can manually invoke ChainConsumer's plotting functions.\n\nHere's an example, noting that there are also `plot_point`, `plot_surface` available\nthat I haven't explicitly shown.\n"
      ]
    },
    {
      "cell_type": "code",
      "execution_count": null,
      "metadata": {
        "collapsed": false
      },
      "outputs": [],
      "source": [
        "import matplotlib.pyplot as plt\n\nfrom chainconsumer import Chain, Truth, make_sample\nfrom chainconsumer.plotting import plot_contour, plot_truths"
      ]
    },
    {
      "cell_type": "code",
      "execution_count": null,
      "metadata": {
        "collapsed": false
      },
      "outputs": [],
      "source": [
        "df = make_sample(num_dimensions=2, seed=1)\n\n# Custom plotting code\nfig, axes = plt.subplots(ncols=2, figsize=(10, 5))\naxes[0].hist(df[\"A\"], bins=50, color=\"skyblue\", density=True)\n\n# We can use ChainConsumer to plot a truth value on top of this histogram\ntruth = Truth(location={\"A\": 0, \"B\": 5}, line_style=\":\")\nplot_truths(axes[0], [truth], px=\"A\")\n# And also add a contour to the other axis\nplot_contour(axes[1], Chain(samples=df, name=\"Example\"), px=\"A\", py=\"B\")"
      ]
    }
  ],
  "metadata": {
    "kernelspec": {
      "display_name": "Python 3",
      "language": "python",
      "name": "python3"
    },
    "language_info": {
      "codemirror_mode": {
        "name": "ipython",
        "version": 3
      },
      "file_extension": ".py",
      "mimetype": "text/x-python",
      "name": "python",
      "nbconvert_exporter": "python",
      "pygments_lexer": "ipython3",
      "version": "3.13.9"
    }
  },
  "nbformat": 4,
  "nbformat_minor": 0
}