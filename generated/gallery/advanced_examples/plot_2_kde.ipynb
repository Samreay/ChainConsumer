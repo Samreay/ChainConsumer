{
  "cells": [
    {
      "cell_type": "code",
      "execution_count": null,
      "metadata": {
        "collapsed": false
      },
      "outputs": [],
      "source": [
        "%matplotlib inline"
      ]
    },
    {
      "cell_type": "markdown",
      "metadata": {},
      "source": [
        "\n# KDE\n\n\nI don't recommend using KDEs in general, as its very easy to have\nthem inflate your contours if the bandpass isn't tuned well, and\nits hard to see when it's too large.\n\nAlways run more samples if you can, instead of covering up\na lack of data with some extra smoothing.\n\nBut, if there's no other way, here's how you can do it.\n\nNotice how the KDE, unless its perfectly matched to your distribution,\nincreases the width of the marginal distributions.\n"
      ]
    },
    {
      "cell_type": "code",
      "execution_count": null,
      "metadata": {
        "collapsed": false
      },
      "outputs": [],
      "source": [
        "from chainconsumer import Chain, ChainConsumer, PlotConfig, make_sample\n\ndf = make_sample(num_dimensions=2, seed=3, num_points=1000)\nc = ChainConsumer()\nc.add_chain(Chain(samples=df, name=\"No KDE\"))\nc.add_chain(Chain(samples=df + 1, name=\"KDE\", kde=1.0))\nc.add_chain(Chain(samples=df + 2, name=\"KDE that's too large\", kde=2.0))\nc.set_plot_config(PlotConfig(flip=True))\nfig = c.plotter.plot()"
      ]
    }
  ],
  "metadata": {
    "kernelspec": {
      "display_name": "Python 3",
      "language": "python",
      "name": "python3"
    },
    "language_info": {
      "codemirror_mode": {
        "name": "ipython",
        "version": 3
      },
      "file_extension": ".py",
      "mimetype": "text/x-python",
      "name": "python",
      "nbconvert_exporter": "python",
      "pygments_lexer": "ipython3",
      "version": "3.13.9"
    }
  },
  "nbformat": 4,
  "nbformat_minor": 0
}