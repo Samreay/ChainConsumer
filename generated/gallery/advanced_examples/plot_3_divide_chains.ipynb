{
  "cells": [
    {
      "cell_type": "code",
      "execution_count": null,
      "metadata": {
        "collapsed": false
      },
      "outputs": [],
      "source": [
        "%matplotlib inline"
      ]
    },
    {
      "cell_type": "markdown",
      "metadata": {},
      "source": [
        "\n# Dividing Chains\n\nIt's common with algorithms like MH and other random walkers to have\nmultiple walkers each providing their own chains. Typically, you\nwant to verify each walker is burnt in, and then you put all of their\nsamples into one chain.\n\nBut, if your final samples are made up for four walkers each contributing\n10k samples, you may want to inspect each walker's surface individually.\n\nIn this toy example, all the chains are from the same random generator,\nso they're on top of each other. Except MCMC chains to not be as perfect.\n"
      ]
    },
    {
      "cell_type": "code",
      "execution_count": null,
      "metadata": {
        "collapsed": false
      },
      "outputs": [],
      "source": [
        "from chainconsumer import Chain, ChainConsumer, PlotConfig, make_sample\n\ndf = make_sample(num_dimensions=2, seed=3, num_points=40000)\n\nc = ChainConsumer()\ncombined = Chain(samples=df, name=\"Model\", walkers=4)\nfor chain in combined.divide():\n    c.add_chain(chain)\nc.set_plot_config(PlotConfig(flip=True))\nfig = c.plotter.plot()"
      ]
    }
  ],
  "metadata": {
    "kernelspec": {
      "display_name": "Python 3",
      "language": "python",
      "name": "python3"
    },
    "language_info": {
      "codemirror_mode": {
        "name": "ipython",
        "version": 3
      },
      "file_extension": ".py",
      "mimetype": "text/x-python",
      "name": "python",
      "nbconvert_exporter": "python",
      "pygments_lexer": "ipython3",
      "version": "3.13.9"
    }
  },
  "nbformat": 4,
  "nbformat_minor": 0
}