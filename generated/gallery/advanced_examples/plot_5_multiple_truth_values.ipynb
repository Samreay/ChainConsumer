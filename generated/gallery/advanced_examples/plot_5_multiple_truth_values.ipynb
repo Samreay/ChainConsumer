{
  "cells": [
    {
      "cell_type": "code",
      "execution_count": null,
      "metadata": {
        "collapsed": false
      },
      "outputs": [],
      "source": [
        "%matplotlib inline"
      ]
    },
    {
      "cell_type": "markdown",
      "metadata": {},
      "source": [
        "\n# Multiple Truth Values\n\nBy default truth values are plotted with horizontal\nand vertical lines. However, if you have multiple truth\nvalues, this causes intersections which have no meaning.\n\nThis can be alleviated visually by ensuring your different\ntruth values are in different colours or line styles, but if\nyou end up having numerous truth values, the grid of intersecting\nlines can still become an eyesore.\n\nSee the below for an example.\n"
      ]
    },
    {
      "cell_type": "code",
      "execution_count": null,
      "metadata": {
        "collapsed": false
      },
      "outputs": [],
      "source": [
        "from chainconsumer import Chain, ChainConsumer, Truth\n\ncols = [\"A\", \"B\"]\nchain1 = Chain.from_covariance([0.0, 0.0], [[1.0, -1], [-1, 2]], columns=cols, name=\"Contour 1\")\nchain2 = Chain.from_covariance([3.0, 3.0], [[1.0, 1], [1, 2]], columns=cols, name=\"Contour 2\")\nc = ChainConsumer()\nc.add_chain(chain1)\nc.add_chain(chain2)\nc.add_truth(Truth(location={\"A\": 0, \"B\": 0}, color=\"#fb7185\"))\nc.add_truth(Truth(location={\"A\": 3, \"B\": 3}, color=\"#1f2937\"))\nfig = c.plotter.plot()"
      ]
    },
    {
      "cell_type": "markdown",
      "metadata": {},
      "source": [
        "To fix this, you have two options:\n\n1. Add markers instead of truth values.\n2. Tell the truth values to plot using a marker.\n\nTo do option 2, simple pass in `marker` to the `Truth` object.\nThis will ensure that your marginalised plots still have vertical\nlines at the truth values, while your contour plots will have markers.\n\nYou also can pass in `marker_edge_width` and `marker_size` to control\nthe appearance of the markers. Note though that matplotlib doesn't let\nyou have marker edges for all markers, but if you try to increase\nthe line width on a marker which doesn't support it, ChainConsumer\nwill raise an error so you're not scratching your head over why the plots\naren't changing!\n\n"
      ]
    },
    {
      "cell_type": "code",
      "execution_count": null,
      "metadata": {
        "collapsed": false
      },
      "outputs": [],
      "source": [
        "c = ChainConsumer()\nc.add_chain(chain1)\nc.add_chain(chain2)\nc.add_truth(Truth(location={\"A\": 0, \"B\": 0}, color=\"#fb7185\", edge_color=\"#7a1a28\", marker=\"o\"))\nc.add_truth(Truth(location={\"A\": 3, \"B\": 3}, color=\"#1f2937\", marker=\"X\"))\nfig = c.plotter.plot()"
      ]
    },
    {
      "cell_type": "markdown",
      "metadata": {},
      "source": [
        "The above example will give you points on the subplots showing 2D slices\nof the marginalised posterior, and vertical lines in the 1D marginalised\nhistograms. If this makes the histograms too noisy and you only want to\nsee the points in the contour plots, consider swapping over to simply\nputting in markers.\n\nI also apologise for the inconsistent naming here - marker becomes\nmarker_style. Sorry.\n\n\n"
      ]
    },
    {
      "cell_type": "code",
      "execution_count": null,
      "metadata": {
        "collapsed": false
      },
      "outputs": [],
      "source": [
        "c = ChainConsumer()\nc.add_chain(chain1)\nc.add_marker(\n    location={\"A\": 0, \"B\": 0},\n    name=\"Truth1\",\n    color=\"#fb7185\",\n    marker_style=\"o\",\n)\nc.add_marker(\n    location={\"A\": 3, \"B\": 3},\n    name=\"Truth2\",\n    color=\"#1f2937\",\n    marker_style=\"X\",\n)\nfig = c.plotter.plot()"
      ]
    }
  ],
  "metadata": {
    "kernelspec": {
      "display_name": "Python 3",
      "language": "python",
      "name": "python3"
    },
    "language_info": {
      "codemirror_mode": {
        "name": "ipython",
        "version": 3
      },
      "file_extension": ".py",
      "mimetype": "text/x-python",
      "name": "python",
      "nbconvert_exporter": "python",
      "pygments_lexer": "ipython3",
      "version": "3.13.9"
    }
  },
  "nbformat": 4,
  "nbformat_minor": 0
}