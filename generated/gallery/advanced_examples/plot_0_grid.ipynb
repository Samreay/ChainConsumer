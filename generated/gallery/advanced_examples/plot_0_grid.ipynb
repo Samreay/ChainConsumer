{
  "cells": [
    {
      "cell_type": "code",
      "execution_count": null,
      "metadata": {
        "collapsed": false
      },
      "outputs": [],
      "source": [
        "%matplotlib inline"
      ]
    },
    {
      "cell_type": "markdown",
      "metadata": {},
      "source": [
        "\n# Plotting Grid Data\n\n\nIf you don't have Monte Carlo chains, and have grid evaluations instead, that's fine too!\n\nJust flatten your grid, set the weights to the grid evaluation, and set the grid flag. Here is\na nice diamond that you get from modifying a simple multivariate normal distribution.\n\nNote that by default, grid data is not smoothed, though you can explicitly set the smooth\nparameter when you make the Chain object if you want.\n\nNote that you *cannot* use dictionary input with the grid method and not specify the full\nflattened array. This is because we cannot construct the meshgrid from a dictionary, as\nthe order of the parameters is not preserved in the dictionary.\n"
      ]
    },
    {
      "cell_type": "code",
      "execution_count": null,
      "metadata": {
        "collapsed": false
      },
      "outputs": [],
      "source": [
        "import numpy as np\nimport pandas as pd\n\nfrom chainconsumer import Chain, ChainConsumer\n\nx, y = np.linspace(-3, 3, 50), np.linspace(-7, 7, 100)\nxx, yy = np.meshgrid(x, y, indexing=\"ij\")\nlikelihood = np.exp(-0.5 * (xx * xx + yy * yy / 4 + np.abs(xx * yy)))\ndf = pd.DataFrame({\"x\": xx.flatten(), \"y\": yy.flatten(), \"weight\": likelihood.flatten()})\n\nc = ChainConsumer()\nc.add_chain(Chain(samples=df, grid=True, name=\"Grid Data\"))\nfig = c.plotter.plot()"
      ]
    }
  ],
  "metadata": {
    "kernelspec": {
      "display_name": "Python 3",
      "language": "python",
      "name": "python3"
    },
    "language_info": {
      "codemirror_mode": {
        "name": "ipython",
        "version": 3
      },
      "file_extension": ".py",
      "mimetype": "text/x-python",
      "name": "python",
      "nbconvert_exporter": "python",
      "pygments_lexer": "ipython3",
      "version": "3.13.9"
    }
  },
  "nbformat": 4,
  "nbformat_minor": 0
}