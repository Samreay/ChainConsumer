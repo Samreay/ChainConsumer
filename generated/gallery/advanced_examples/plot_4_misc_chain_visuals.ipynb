{
  "cells": [
    {
      "cell_type": "code",
      "execution_count": null,
      "metadata": {
        "collapsed": false
      },
      "outputs": [],
      "source": [
        "%matplotlib inline"
      ]
    },
    {
      "cell_type": "markdown",
      "metadata": {},
      "source": [
        "\n# Miscellaneous Visual Options\n\nRather than having one example for each option, let's condense things.\n"
      ]
    },
    {
      "cell_type": "markdown",
      "metadata": {},
      "source": [
        "Shade Gradient\n--------------\n\nPretty simple - it controls how much visual difference there is in your contours.\n\n"
      ]
    },
    {
      "cell_type": "code",
      "execution_count": null,
      "metadata": {
        "collapsed": false
      },
      "outputs": [],
      "source": [
        "import numpy as np\n\nfrom chainconsumer import Chain, ChainConfig, ChainConsumer, PlotConfig, make_sample\n\ndf1 = make_sample(num_dimensions=2, seed=3) - 1\ndf2 = make_sample(num_dimensions=2, seed=1) + 2\n\nc = ChainConsumer()\nc.add_chain(Chain(samples=df1, name=\"High Contrast\", color=\"emerald\", shade_gradient=2.0))\nc.add_chain(Chain(samples=df2, name=\"Low Contrast\", color=\"sky\", shade_gradient=0.2))\n\nc.set_plot_config(PlotConfig(flip=True))\nfig = c.plotter.plot()"
      ]
    },
    {
      "cell_type": "markdown",
      "metadata": {},
      "source": [
        "Shade Alpha\n-----------\n\nControls how opaque the contours are. Like everything else, you\ncan specify this when making the chain, or apply a single override\nto everything like so.\n\n"
      ]
    },
    {
      "cell_type": "code",
      "execution_count": null,
      "metadata": {
        "collapsed": false
      },
      "outputs": [],
      "source": [
        "c.set_override(ChainConfig(shade_alpha=0.1))\nfig = c.plotter.plot()"
      ]
    },
    {
      "cell_type": "markdown",
      "metadata": {},
      "source": [
        "Contour Labels\n--------------\n\nAdd labels to contours. I used to have this configurable to be either\nsigma levels or percentages, but there was confusion over the 1D vs 2D sigma levels,\nin that $1\\sigma$ in a 2D gaussian is *not* 68% of the volume. So now we just\ndo percentages.\n\n"
      ]
    },
    {
      "cell_type": "code",
      "execution_count": null,
      "metadata": {
        "collapsed": false
      },
      "outputs": [],
      "source": [
        "c.set_override(ChainConfig(show_contour_labels=True))\nfig = c.plotter.plot()"
      ]
    },
    {
      "cell_type": "markdown",
      "metadata": {},
      "source": [
        "Linestyles and widths\n---------------------\n\nFairly simple to do. To show different ones, I'll remake the chains,\nrather than having a single override. Note you *could* try something\nlike `chain.line_width = 5`, but this is a sneaky override, and it\nwon't be registered in the internal \"You set this attribute and didn't\nuse the default when you made the chain, so don't screw with it.\"\n\nNothing *does* screw with line width, or similar, but it's a good habit.\n\n"
      ]
    },
    {
      "cell_type": "code",
      "execution_count": null,
      "metadata": {
        "collapsed": false
      },
      "outputs": [],
      "source": [
        "c2 = ChainConsumer()\nc2.add_chain(Chain(samples=df1, name=\"Thin dots\", color=\"emerald\", linestyle=\":\", linewidth=0.5))\nc2.add_chain(Chain(samples=df2, name=\"Thick dashes\", color=\"sky\", linestyle=\"--\", linewidth=2.0))\nfig = c2.plotter.plot()"
      ]
    },
    {
      "cell_type": "markdown",
      "metadata": {},
      "source": [
        "Marker styles and sizes\n-----------------------\n\nProvided you have a posterior column, you can plot the maximum probability point.\n\n"
      ]
    },
    {
      "cell_type": "code",
      "execution_count": null,
      "metadata": {
        "collapsed": false
      },
      "outputs": [],
      "source": [
        "c.set_override(ChainConfig(plot_point=True, marker_style=\"P\", marker_size=100))\nfig = c.plotter.plot()"
      ]
    },
    {
      "cell_type": "markdown",
      "metadata": {},
      "source": [
        "Cloud and Sigma Levels\n----------------------\n\nChoose custom sigma levels and display point cloud.\n\n"
      ]
    },
    {
      "cell_type": "code",
      "execution_count": null,
      "metadata": {
        "collapsed": false
      },
      "outputs": [],
      "source": [
        "c.set_override(\n    ChainConfig(\n        shade_alpha=1.0,\n        sigmas=np.linspace(0, 1, 10).tolist(),\n        shade_gradient=1.0,\n        plot_cloud=True,\n    )\n)\nfig = c.plotter.plot()"
      ]
    },
    {
      "cell_type": "markdown",
      "metadata": {},
      "source": [
        "Of course, you don't have to change both at once. Here's just a cloud.\nAnd also note that contours include the 2D marginalised distributions,\nhence why I am hising the histograms here (as they'll be empty).\n\n"
      ]
    },
    {
      "cell_type": "code",
      "execution_count": null,
      "metadata": {
        "collapsed": false
      },
      "outputs": [],
      "source": [
        "c.set_override(ChainConfig(plot_cloud=True, plot_contour=False))\nc.set_plot_config(PlotConfig(plot_hists=False))\nfig = c.plotter.plot()"
      ]
    },
    {
      "cell_type": "markdown",
      "metadata": {},
      "source": [
        "Smoothing (or not)\n------------------\n\nThe histograms behind the scene in ChainConsumer are smoothed. But you can turn this off.\nThe higher the smoothing value, the more subidivisions of your bins there will be.\n\n"
      ]
    },
    {
      "cell_type": "code",
      "execution_count": null,
      "metadata": {
        "collapsed": false
      },
      "outputs": [],
      "source": [
        "c.set_override(ChainConfig(smooth=0))\nfig = c.plotter.plot()"
      ]
    },
    {
      "cell_type": "markdown",
      "metadata": {},
      "source": [
        "But changing the smoothing doesn't change the number of bins. That's separate.\n\n"
      ]
    },
    {
      "cell_type": "code",
      "execution_count": null,
      "metadata": {
        "collapsed": false
      },
      "outputs": [],
      "source": [
        "c.set_override(ChainConfig(smooth=0, bins=10))\nfig = c.plotter.plot()"
      ]
    },
    {
      "cell_type": "markdown",
      "metadata": {},
      "source": [
        "It's beautiful. And it's hard to find a nice balance.\n\n"
      ]
    },
    {
      "cell_type": "code",
      "execution_count": null,
      "metadata": {
        "collapsed": false
      },
      "outputs": [],
      "source": [
        "c.set_override(ChainConfig(smooth=0, bins=100))\nfig = c.plotter.plot()"
      ]
    },
    {
      "cell_type": "markdown",
      "metadata": {},
      "source": [
        "Controlling the legend\n----------------------\n\nSometimes we have a bunch of things we want to show, whether they are\nchains, markers, truth values, or something else. By default, ChainConsumer\nwill try to show everything, but you specifically tell it to hide items on\nthe legend.\n\n"
      ]
    },
    {
      "cell_type": "code",
      "execution_count": null,
      "metadata": {
        "collapsed": false
      },
      "outputs": [],
      "source": [
        "c = ChainConsumer()\nc.add_chain(Chain(samples=df1, name=\"I'm in the legend!\"))\nc.add_chain(Chain(samples=df2, name=\"I'm not!\", show_label_in_legend=False))\nc.add_marker(location={\"A\": 2.5, \"B\": 7.5}, marker_size=100, name=\"Marker in legend!\")\nc.add_marker(location={\"A\": 2.5, \"B\": 1}, marker_size=100, name=\"Marker not in legend\", show_label_in_legend=False)\nfig = c.plotter.plot()"
      ]
    },
    {
      "cell_type": "markdown",
      "metadata": {},
      "source": [
        "Changing the height of the histogram\n------------------------------------\n\nFor *very* niche reasons, you may want to change the defaults so that the\nmarginalised histograms on the diagonal are not normalised to unit area.\nYou can set the `histogram_relative_height` value to change this, such\nthat a value of 0.5 would mean \"Make the histogram half as tall\" and thus\nresult in a normalised area of 0.5 instead of 1.0.\n\n"
      ]
    },
    {
      "cell_type": "code",
      "execution_count": null,
      "metadata": {
        "collapsed": false
      },
      "outputs": [],
      "source": [
        "c = ChainConsumer()\nc.add_chain(Chain(samples=df1, name=\"Normal histogram\"))\nc.add_chain(Chain(samples=df2, name=\"Small histogram\", histogram_relative_height=0.2))\nc.set_plot_config(PlotConfig(flip=False))\nfig = c.plotter.plot()"
      ]
    }
  ],
  "metadata": {
    "kernelspec": {
      "display_name": "Python 3",
      "language": "python",
      "name": "python3"
    },
    "language_info": {
      "codemirror_mode": {
        "name": "ipython",
        "version": 3
      },
      "file_extension": ".py",
      "mimetype": "text/x-python",
      "name": "python",
      "nbconvert_exporter": "python",
      "pygments_lexer": "ipython3",
      "version": "3.13.9"
    }
  },
  "nbformat": 4,
  "nbformat_minor": 0
}