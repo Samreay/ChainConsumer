{
  "cells": [
    {
      "cell_type": "code",
      "execution_count": null,
      "metadata": {
        "collapsed": false
      },
      "outputs": [],
      "source": [
        "%matplotlib inline"
      ]
    },
    {
      "cell_type": "markdown",
      "metadata": {},
      "source": [
        "\n# Introduction to Summaries\n\nWhen you have a few chains and want to contrast them all with\neach other, you probably want a summary plot.\n\nTo show you how they work, let's make some sample data that all\nhas the same average.\n"
      ]
    },
    {
      "cell_type": "code",
      "execution_count": null,
      "metadata": {
        "collapsed": false
      },
      "outputs": [],
      "source": [
        "from chainconsumer import Chain, ChainConfig, ChainConsumer, PlotConfig, Truth, make_sample\n\n# Here's what you might start with\ndf_1 = make_sample(num_dimensions=4, seed=1)\ndf_2 = make_sample(num_dimensions=5, seed=2)\nprint(df_1.head())"
      ]
    },
    {
      "cell_type": "markdown",
      "metadata": {},
      "source": [
        "# Using distributions\n\n"
      ]
    },
    {
      "cell_type": "code",
      "execution_count": null,
      "metadata": {
        "collapsed": false
      },
      "outputs": [],
      "source": [
        "# And now we give this to chainconsumer\nc = ChainConsumer()\nc.add_chain(Chain(samples=df_1, name=\"An Example Contour\"))\nc.add_chain(Chain(samples=df_2, name=\"A Different Contour\"))\nfig = c.plotter.plot_summary()"
      ]
    },
    {
      "cell_type": "markdown",
      "metadata": {},
      "source": [
        "## Using Errorbars\n\nNote that because the errorbar kwarg is specific to this function\nit is not part of the `PlotConfig` class.\n\n"
      ]
    },
    {
      "cell_type": "code",
      "execution_count": null,
      "metadata": {
        "collapsed": false
      },
      "outputs": [],
      "source": [
        "fig = c.plotter.plot_summary(errorbar=True)"
      ]
    },
    {
      "cell_type": "markdown",
      "metadata": {},
      "source": [
        "The other features of ChainConsumer should work with summaries too.\n\nFor example, truth values should work just fine.\n\n"
      ]
    },
    {
      "cell_type": "code",
      "execution_count": null,
      "metadata": {
        "collapsed": false
      },
      "outputs": [],
      "source": [
        "c.add_truth(Truth(location={\"A\": 0, \"B\": 1}, line_style=\":\", color=\"red\"))\nfig = c.plotter.plot_summary(errorbar=True, vertical_spacing_ratio=2.0)"
      ]
    },
    {
      "cell_type": "markdown",
      "metadata": {},
      "source": [
        "And similarly, our overrides are generic and so effect this method too.\n\n"
      ]
    },
    {
      "cell_type": "code",
      "execution_count": null,
      "metadata": {
        "collapsed": false
      },
      "outputs": [],
      "source": [
        "c.set_override(ChainConfig(bar_shade=False))\nc.set_plot_config(PlotConfig(watermark=\"Preliminary\", blind=[\"E\"]))\nfig = c.plotter.plot_summary()"
      ]
    }
  ],
  "metadata": {
    "kernelspec": {
      "display_name": "Python 3",
      "language": "python",
      "name": "python3"
    },
    "language_info": {
      "codemirror_mode": {
        "name": "ipython",
        "version": 3
      },
      "file_extension": ".py",
      "mimetype": "text/x-python",
      "name": "python",
      "nbconvert_exporter": "python",
      "pygments_lexer": "ipython3",
      "version": "3.13.9"
    }
  },
  "nbformat": 4,
  "nbformat_minor": 0
}