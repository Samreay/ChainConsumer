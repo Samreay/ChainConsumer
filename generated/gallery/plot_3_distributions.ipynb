{
  "cells": [
    {
      "cell_type": "code",
      "execution_count": null,
      "metadata": {
        "collapsed": false
      },
      "outputs": [],
      "source": [
        "%matplotlib inline"
      ]
    },
    {
      "cell_type": "markdown",
      "metadata": {},
      "source": [
        "\n# Introduction to Distributions\n\nWhen you have a few chains and want to contrast them all with\neach other, you probably want a summary plot.\n\nTo show you how they work, let's make some sample data that all\nhas the same average.\n"
      ]
    },
    {
      "cell_type": "code",
      "execution_count": null,
      "metadata": {
        "collapsed": false
      },
      "outputs": [],
      "source": [
        "from chainconsumer import Chain, ChainConsumer, Truth, make_sample\n\n# Here's what you might start with\ndf_1 = make_sample(num_dimensions=4, seed=1, randomise_mean=True)\ndf_2 = make_sample(num_dimensions=5, seed=2, randomise_mean=True)\nprint(df_1.head())"
      ]
    },
    {
      "cell_type": "markdown",
      "metadata": {},
      "source": [
        "# Using distributions\n\n"
      ]
    },
    {
      "cell_type": "code",
      "execution_count": null,
      "metadata": {
        "collapsed": false
      },
      "outputs": [],
      "source": [
        "# And now we give this to chainconsumer\nc = ChainConsumer()\nc.add_chain(Chain(samples=df_1, name=\"An Example Contour\"))\nfig = c.plotter.plot_distributions()"
      ]
    },
    {
      "cell_type": "markdown",
      "metadata": {},
      "source": [
        "If you want the summary stats you'll need to keep it just one\nchain. And if you don't want them, you can pass `summarise=False`\nto the `PlotConfig`.\n\nWhen you add a second chain, you'll see the summaries disappear.\n\n"
      ]
    },
    {
      "cell_type": "code",
      "execution_count": null,
      "metadata": {
        "collapsed": false
      },
      "outputs": [],
      "source": [
        "c.add_chain(Chain(samples=df_2, name=\"Another contour!\"))\nc.add_truth(Truth(location={\"A\": 0, \"B\": 0}))\nfig = c.plotter.plot_distributions(col_wrap=3, columns=[\"A\", \"B\"])"
      ]
    }
  ],
  "metadata": {
    "kernelspec": {
      "display_name": "Python 3",
      "language": "python",
      "name": "python3"
    },
    "language_info": {
      "codemirror_mode": {
        "name": "ipython",
        "version": 3
      },
      "file_extension": ".py",
      "mimetype": "text/x-python",
      "name": "python",
      "nbconvert_exporter": "python",
      "pygments_lexer": "ipython3",
      "version": "3.13.9"
    }
  },
  "nbformat": 4,
  "nbformat_minor": 0
}